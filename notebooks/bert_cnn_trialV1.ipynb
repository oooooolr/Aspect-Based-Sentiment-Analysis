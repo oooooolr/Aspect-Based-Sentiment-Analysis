{
 "cells": [
  {
   "cell_type": "code",
   "execution_count": 1,
   "metadata": {},
   "outputs": [],
   "source": [
    "import torch\n",
    "import torch.nn as nn\n",
    "import torch.nn.functional as F\n",
    "from transformers import AutoModel, AutoTokenizer\n",
    "from torch.optim import AdamW\n",
    "import os, sys\n",
    "sys.path.append(os.path.abspath('..'))\n",
    "import json\n",
    "import numpy as np\n",
    "from sklearn.metrics import classification_report\n",
    "import matplotlib.pyplot as plt\n",
    "%matplotlib inline\n",
    "import seaborn as sns\n",
    "\n",
    "from utils import load_data, sentiment_mapper"
   ]
  },
  {
   "cell_type": "code",
   "execution_count": 2,
   "metadata": {},
   "outputs": [
    {
     "name": "stdout",
     "output_type": "stream",
     "text": [
      "torch.Size([16, 75, 768])\n",
      "torch.Size([16, 1, 75, 768])\n",
      "torch.Size([16, 10, 66, 1])\n",
      "torch.Size([16, 10, 1, 1])\n",
      "torch.Size([16, 10])\n"
     ]
    }
   ],
   "source": [
    "# Initial experimentation with shape configurations\n",
    "\n",
    "x = torch.randn(16, 75, 768, requires_grad=True) # (batch_size, seq_len, hidden_dim)\n",
    "print(x.shape)\n",
    "\n",
    "x = x.unsqueeze(1) # (batch_size, num_channels, seq_len, hidden_dim)\n",
    "print(x.shape)\n",
    "\n",
    "l = nn.Conv2d(1, 10, kernel_size=(10, 768), stride=1, padding=0)\n",
    "x = l(x)\n",
    "print(x.shape)\n",
    "\n",
    "m = nn.MaxPool2d(kernel_size=(66, 1))\n",
    "x = m(x)\n",
    "print(x.shape)\n",
    "\n",
    "f = nn.Flatten()\n",
    "x = f(x)\n",
    "print(x.shape)\n",
    "\n"
   ]
  },
  {
   "cell_type": "code",
   "execution_count": 3,
   "metadata": {},
   "outputs": [],
   "source": [
    "class BERT_CNN(nn.Module):\n",
    "    def __init__(self, bert_path, num_classes, filter_size, num_filters, seq_len=75, freeze_bert=False):\n",
    "        super(BERT_CNN, self).__init__()\n",
    "        self.num_classes = num_classes\n",
    "        self.filter_size = filter_size\n",
    "        self.num_filters = num_filters\n",
    "        self.device = torch.device('cuda' if torch.cuda.is_available() else 'cpu')\n",
    "\n",
    "        self.bert = AutoModel.from_pretrained(bert_path).to(self.device)\n",
    "        self.cnn = nn.Conv2d(1, num_filters, kernel_size=(filter_size, self.bert.config.hidden_size), stride=1, padding=0)\n",
    "        self.max_pool = nn.MaxPool2d(kernel_size=(seq_len-filter_size+1, 1))\n",
    "        self.fc = nn.Linear(num_filters, num_classes)\n",
    "\n",
    "        if freeze_bert:\n",
    "            for param in self.bert.parameters():\n",
    "                param.requires_grad = False\n",
    "\n",
    "    def forward(self, tokenized, h=None, c=None):\n",
    "        # batch_size = tokenized['input_ids'].size(0)\n",
    "        outputs = self.bert(**tokenized)\n",
    "        hidden_outputs, pooled_outputs = outputs[0], outputs[1]\n",
    "        out = self.cnn(hidden_outputs.unsqueeze(1))\n",
    "        out = F.relu(out)\n",
    "        out = self.max_pool(out)\n",
    "        out = out.view(out.size(0), -1) # Flattening to (batch_size, num_filters)\n",
    "        logits = self.fc(out)\n",
    "        return logits"
   ]
  },
  {
   "cell_type": "code",
   "execution_count": 4,
   "metadata": {},
   "outputs": [],
   "source": [
    "# PARAMS\n",
    "bert_path = 'bert-base-cased'\n",
    "num_classes = 4\n",
    "filter_size = 8\n",
    "num_filters = 64\n",
    "freeze_bert = True\n",
    "seq_len = 75\n",
    "batch_size = 16\n",
    "shuffle = True"
   ]
  },
  {
   "cell_type": "code",
   "execution_count": 5,
   "metadata": {},
   "outputs": [],
   "source": [
    "mapper_path = \"../models/sent2idx.json\"\n",
    "\n",
    "train_loader = load_data(\"../data/train_laptops_sc.json\", batch_size=batch_size, shuffle=shuffle, mapper_path=mapper_path)\n",
    "val_loader = load_data(\"../data/test_laptops_sc.json\", batch_size=batch_size, shuffle=shuffle, mapper_path=mapper_path)\n",
    "device = torch.device('cuda' if torch.cuda.is_available() else 'cpu')"
   ]
  },
  {
   "cell_type": "code",
   "execution_count": 6,
   "metadata": {},
   "outputs": [
    {
     "name": "stderr",
     "output_type": "stream",
     "text": [
      "Some weights of the model checkpoint at bert-base-cased were not used when initializing BertModel: ['cls.predictions.transform.LayerNorm.bias', 'cls.seq_relationship.weight', 'cls.seq_relationship.bias', 'cls.predictions.bias', 'cls.predictions.transform.dense.bias', 'cls.predictions.transform.LayerNorm.weight', 'cls.predictions.transform.dense.weight', 'cls.predictions.decoder.weight']\n",
      "- This IS expected if you are initializing BertModel from the checkpoint of a model trained on another task or with another architecture (e.g. initializing a BertForSequenceClassification model from a BertForPreTraining model).\n",
      "- This IS NOT expected if you are initializing BertModel from the checkpoint of a model that you expect to be exactly identical (initializing a BertForSequenceClassification model from a BertForSequenceClassification model).\n"
     ]
    }
   ],
   "source": [
    "tokenizer = AutoTokenizer.from_pretrained(bert_path)\n",
    "model = BERT_CNN(bert_path, num_classes, filter_size, num_filters, seq_len, freeze_bert).to(device)"
   ]
  },
  {
   "cell_type": "code",
   "execution_count": 7,
   "metadata": {},
   "outputs": [],
   "source": [
    "criterion = nn.CrossEntropyLoss(ignore_index=-100)\n",
    "optimizer = AdamW(model.parameters(), lr=5e-5)"
   ]
  },
  {
   "cell_type": "code",
   "execution_count": 8,
   "metadata": {},
   "outputs": [
    {
     "name": "stdout",
     "output_type": "stream",
     "text": [
      "torch.Size([16, 4])\n",
      "tensor(1.4892, device='cuda:0')\n"
     ]
    }
   ],
   "source": [
    "with torch.no_grad():\n",
    "    for idx, sample in enumerate(train_loader):\n",
    "        text = sample['text']\n",
    "        aspect = sample['aspect']\n",
    "        y = sample['polarity'].to(device)\n",
    "        tokenized = tokenizer(text, aspect, padding=\"max_length\", max_length=seq_len, truncation=True, return_tensors=\"pt\").to(device)\n",
    "        output = model(tokenized)\n",
    "        print(output.shape)\n",
    "        loss = criterion(output, y)\n",
    "        print(loss)\n",
    "        break"
   ]
  },
  {
   "cell_type": "code",
   "execution_count": 9,
   "metadata": {},
   "outputs": [],
   "source": [
    "def start_table():\n",
    "    print(\"-\"*66)\n",
    "    print(f\"|{'EPOCH':^15}|{'BATCH':^15}|{'TRAIN LOSS':^16}|{'EVAL LOSS':^15}|\")\n",
    "    print(\"-\"*66)"
   ]
  },
  {
   "cell_type": "code",
   "execution_count": 10,
   "metadata": {},
   "outputs": [],
   "source": [
    "def plot_loss(loss, title, xlabel, ylabel):\n",
    "    sns.set(style=\"darkgrid\")\n",
    "    sns.lineplot(x=np.arange(len(loss)), y=loss).set(title=title, xlabel=xlabel, ylabel=ylabel)\n",
    "    # plt.show();"
   ]
  },
  {
   "cell_type": "code",
   "execution_count": 11,
   "metadata": {},
   "outputs": [],
   "source": [
    "def compute_metrics(pred, tags):\n",
    "    if len(pred.shape) == 2:\n",
    "        pred = pred.argmax(axis=-1)\n",
    "    accuracy = (pred == tags).mean()\n",
    "    print(classification_report(tags, pred, target_names=[\"positive\", \"neutral\", \"negative\", \"conflict\"]))\n",
    "    return accuracy"
   ]
  },
  {
   "cell_type": "code",
   "execution_count": 12,
   "metadata": {},
   "outputs": [],
   "source": [
    "def train_epoch(model, optimizer, criterion, train_loader, val_loader, device, epoch_num, print_every=50):\n",
    "    total_loss = 0\n",
    "    batch_losses = []\n",
    "    eval_losses = []\n",
    "\n",
    "    for idx, sample in enumerate(train_loader):\n",
    "        model.train()\n",
    "\n",
    "        text = sample['text']\n",
    "        aspect = sample['aspect']\n",
    "        y = sample['polarity'].to(device)\n",
    "\n",
    "        tokenized = tokenizer(text, aspect, padding=\"max_length\", max_length=seq_len, truncation=True, return_tensors=\"pt\").to(device)\n",
    "\n",
    "        optimizer.zero_grad()\n",
    "        output = model(tokenized)\n",
    "        loss = criterion(output, y)\n",
    "\n",
    "        loss.backward()\n",
    "        optimizer.step()\n",
    "        total_loss += loss.item()\n",
    "        batch_losses.append(loss.item())\n",
    "\n",
    "        if (idx+1) % print_every == 0:\n",
    "            # print(f\"EPOCH: {epoch_num} BATCH:{idx+1}/{len(train_loader)} LOSS: {loss.item()}\")\n",
    "            eval_loss = evaluate(model, criterion, val_loader, device)\n",
    "            eval_losses.append(eval_loss)\n",
    "            print(f\"|{epoch_num:^15}|{idx+1:^15}|{loss.item():^16.4f}|{eval_loss:^15.4f}|\")\n",
    "    \n",
    "#             plot_loss(batch_losses)\n",
    "\n",
    "    epoch_loss =  total_loss / len(train_loader)\n",
    "    print(\"-\"*66 + \"\\n\")\n",
    "    return model, epoch_loss, batch_losses, eval_losses"
   ]
  },
  {
   "cell_type": "code",
   "execution_count": 13,
   "metadata": {},
   "outputs": [],
   "source": [
    "def evaluate(model, criterion, test_loader, device):\n",
    "    model.eval()\n",
    "\n",
    "    total_loss = 0\n",
    "\n",
    "    with torch.no_grad():\n",
    "        for idx, sample in enumerate(test_loader):\n",
    "            text = sample['text']\n",
    "            aspect = sample['aspect']\n",
    "            y = sample['polarity'].to(device)\n",
    "\n",
    "            tokenized = tokenizer(text, aspect, padding=\"max_length\", max_length=seq_len, truncation=True, return_tensors=\"pt\").to(device)\n",
    "\n",
    "            output = model(tokenized)\n",
    "            loss = criterion(output, y)\n",
    "\n",
    "            total_loss += loss.item()\n",
    "\n",
    "    epoch_loss =  total_loss / len(test_loader)\n",
    "    # print(f\"\\VAL LOSS: {epoch_loss}\\n\")\n",
    "    return epoch_loss"
   ]
  },
  {
   "cell_type": "code",
   "execution_count": 14,
   "metadata": {},
   "outputs": [],
   "source": [
    "def evaluate_complete(model, test_loader, device):\n",
    "    model.eval()\n",
    "\n",
    "    outputs = None\n",
    "    y = None\n",
    "\n",
    "    with torch.no_grad():\n",
    "        for idx, sample in enumerate(test_loader):\n",
    "            text = sample['text']\n",
    "            aspect = sample['aspect']\n",
    "            y_ = sample['polarity'].cpu().numpy()\n",
    "\n",
    "            tokenized = tokenizer(text, aspect, padding=\"max_length\", max_length=seq_len, truncation=True, return_tensors=\"pt\").to(device)\n",
    "\n",
    "            output = model(tokenized).cpu().numpy()\n",
    "\n",
    "            # Concatenate to the outputs\n",
    "            outputs = np.concatenate((outputs, output), axis=0) if outputs is not None else output\n",
    "            y = np.concatenate((y, y_), axis=0) if y is not None else y_\n",
    "\n",
    "    accuracy = compute_metrics(outputs, y)\n",
    "    return accuracy"
   ]
  },
  {
   "cell_type": "code",
   "execution_count": 23,
   "metadata": {},
   "outputs": [],
   "source": [
    "def predict_sample(text, aspect, model, tokenizer):\n",
    "    model.eval()\n",
    "    with torch.no_grad():\n",
    "        tokenized = tokenizer(text, aspect, padding=\"max_length\", max_length=seq_len, truncation=True, return_tensors=\"pt\").to(device)\n",
    "        output = model(tokenized)\n",
    "        output = output.argmax(dim=-1).cpu()[0].item()\n",
    "        \n",
    "        mapper = json.load(open(mapper_path, \"r\"))\n",
    "        reverse_mapper = {v: k for k, v in mapper.items()}\n",
    "\n",
    "        sentiment = reverse_mapper[output]\n",
    "        return sentiment"
   ]
  },
  {
   "cell_type": "code",
   "execution_count": 16,
   "metadata": {},
   "outputs": [],
   "source": [
    "def train(model, optimizer, criterion, epochs, train_loader, val_loader, device, print_every=50, eval_every=50):\n",
    "    epoch_losses = []\n",
    "    batch_losses = []\n",
    "    eval_losses = []\n",
    "\n",
    "    for epoch in range(epochs):\n",
    "        # print(f\"[INFO] STARTING EPOCH {epoch+1}:\\n\")\n",
    "        start_table()\n",
    "        model, epoch_loss, batch_losses_, eval_losses = train_epoch(model, optimizer, criterion, train_loader, val_loader, device, epoch+1, print_every)\n",
    "\n",
    "        epoch_losses.append(epoch_loss)\n",
    "        batch_losses.extend(batch_losses_)\n",
    "        eval_losses.extend(eval_losses)\n",
    "\n",
    "        print(f\"EPOCH: {epoch+1} AVG LOSS: {epoch_loss}\\n\")\n",
    "        evaluate_complete(model, val_loader, device)\n",
    "\n",
    "    plt.figure()  \n",
    "    plot_loss(batch_losses, \"Training Loss\", \"Step\", \"Loss\")\n",
    "    \n",
    "    plt.figure()\n",
    "    plot_loss(epoch_losses, \"Training Loss\", \"Epoch\", \"Loss\")\n",
    "    \n",
    "    return model, epoch_losses, batch_losses, eval_losses"
   ]
  },
  {
   "cell_type": "code",
   "execution_count": 17,
   "metadata": {},
   "outputs": [],
   "source": [
    "epochs = 10\n",
    "print_every = 20\n",
    "eval_every = 20"
   ]
  },
  {
   "cell_type": "code",
   "execution_count": 18,
   "metadata": {},
   "outputs": [
    {
     "name": "stdout",
     "output_type": "stream",
     "text": [
      "------------------------------------------------------------------\n",
      "|     EPOCH     |     BATCH     |   TRAIN LOSS   |   EVAL LOSS   |\n",
      "------------------------------------------------------------------\n",
      "|       1       |      20       |     1.1056     |    1.1085     |\n",
      "|       1       |      40       |     0.9335     |    1.0680     |\n",
      "|       1       |      60       |     1.0928     |    1.0598     |\n",
      "|       1       |      80       |     0.9343     |    0.9567     |\n",
      "|       1       |      100      |     0.7922     |    0.9290     |\n",
      "|       1       |      120      |     0.7184     |    0.9137     |\n",
      "|       1       |      140      |     0.7983     |    0.8993     |\n",
      "------------------------------------------------------------------\n",
      "\n",
      "EPOCH: 1 AVG LOSS: 1.0000619646665212\n",
      "\n"
     ]
    },
    {
     "name": "stderr",
     "output_type": "stream",
     "text": [
      "C:\\Users\\gupta\\AppData\\Local\\Programs\\Python\\Python37\\lib\\site-packages\\sklearn\\metrics\\_classification.py:1221: UndefinedMetricWarning: Precision and F-score are ill-defined and being set to 0.0 in labels with no predicted samples. Use `zero_division` parameter to control this behavior.\n",
      "  _warn_prf(average, modifier, msg_start, len(result))\n"
     ]
    },
    {
     "name": "stdout",
     "output_type": "stream",
     "text": [
      "              precision    recall  f1-score   support\n",
      "\n",
      "    positive       0.77      0.84      0.81       332\n",
      "     neutral       0.74      0.16      0.26       165\n",
      "    negative       0.45      0.85      0.59       127\n",
      "    conflict       0.00      0.00      0.00        16\n",
      "\n",
      "    accuracy                           0.65       640\n",
      "   macro avg       0.49      0.46      0.41       640\n",
      "weighted avg       0.68      0.65      0.60       640\n",
      "\n",
      "------------------------------------------------------------------\n",
      "|     EPOCH     |     BATCH     |   TRAIN LOSS   |   EVAL LOSS   |\n",
      "------------------------------------------------------------------\n",
      "|       2       |      20       |     1.2116     |    0.8877     |\n",
      "|       2       |      40       |     0.6621     |    0.8811     |\n",
      "|       2       |      60       |     0.6981     |    0.8370     |\n",
      "|       2       |      80       |     0.8110     |    0.8633     |\n",
      "|       2       |      100      |     0.7990     |    0.8393     |\n",
      "|       2       |      120      |     0.6930     |    0.8320     |\n",
      "|       2       |      140      |     0.9392     |    0.8103     |\n",
      "------------------------------------------------------------------\n",
      "\n",
      "EPOCH: 2 AVG LOSS: 0.8120478244649397\n",
      "\n",
      "              precision    recall  f1-score   support\n",
      "\n",
      "    positive       0.78      0.87      0.83       336\n",
      "     neutral       0.68      0.39      0.49       163\n",
      "    negative       0.51      0.71      0.60       125\n",
      "    conflict       0.00      0.00      0.00        16\n",
      "\n",
      "    accuracy                           0.70       640\n",
      "   macro avg       0.49      0.49      0.48       640\n",
      "weighted avg       0.68      0.70      0.68       640\n",
      "\n",
      "------------------------------------------------------------------\n",
      "|     EPOCH     |     BATCH     |   TRAIN LOSS   |   EVAL LOSS   |\n",
      "------------------------------------------------------------------\n",
      "|       3       |      20       |     1.0686     |    0.8360     |\n",
      "|       3       |      40       |     0.8900     |    0.7777     |\n",
      "|       3       |      60       |     0.7494     |    0.7704     |\n",
      "|       3       |      80       |     0.7495     |    0.7692     |\n",
      "|       3       |      100      |     0.6526     |    0.7646     |\n",
      "|       3       |      120      |     0.6098     |    0.7643     |\n",
      "|       3       |      140      |     0.5889     |    0.7562     |\n",
      "------------------------------------------------------------------\n",
      "\n",
      "EPOCH: 3 AVG LOSS: 0.7329851938663302\n",
      "\n",
      "              precision    recall  f1-score   support\n",
      "\n",
      "    positive       0.79      0.88      0.83       334\n",
      "     neutral       0.72      0.33      0.45       164\n",
      "    negative       0.51      0.78      0.62       126\n",
      "    conflict       0.00      0.00      0.00        16\n",
      "\n",
      "    accuracy                           0.70       640\n",
      "   macro avg       0.51      0.50      0.48       640\n",
      "weighted avg       0.70      0.70      0.67       640\n",
      "\n",
      "------------------------------------------------------------------\n",
      "|     EPOCH     |     BATCH     |   TRAIN LOSS   |   EVAL LOSS   |\n",
      "------------------------------------------------------------------\n",
      "|       4       |      20       |     0.7537     |    0.7293     |\n",
      "|       4       |      40       |     0.6344     |    0.7705     |\n",
      "|       4       |      60       |     0.7458     |    0.7412     |\n",
      "|       4       |      80       |     0.6156     |    0.7244     |\n",
      "|       4       |      100      |     0.7364     |    0.7558     |\n",
      "|       4       |      120      |     0.5214     |    0.7379     |\n",
      "|       4       |      140      |     0.5759     |    0.6993     |\n",
      "------------------------------------------------------------------\n",
      "\n",
      "EPOCH: 4 AVG LOSS: 0.6739478536151551\n",
      "\n",
      "              precision    recall  f1-score   support\n",
      "\n",
      "    positive       0.81      0.87      0.84       334\n",
      "     neutral       0.68      0.45      0.54       166\n",
      "    negative       0.52      0.73      0.61       124\n",
      "    conflict       0.00      0.00      0.00        16\n",
      "\n",
      "    accuracy                           0.71       640\n",
      "   macro avg       0.50      0.51      0.50       640\n",
      "weighted avg       0.70      0.71      0.70       640\n",
      "\n",
      "------------------------------------------------------------------\n",
      "|     EPOCH     |     BATCH     |   TRAIN LOSS   |   EVAL LOSS   |\n",
      "------------------------------------------------------------------\n",
      "|       5       |      20       |     0.6299     |    0.7177     |\n",
      "|       5       |      40       |     0.6289     |    0.7112     |\n",
      "|       5       |      60       |     0.6885     |    0.7192     |\n",
      "|       5       |      80       |     0.5286     |    0.6728     |\n",
      "|       5       |      100      |     0.6150     |    0.7412     |\n",
      "|       5       |      120      |     0.5969     |    0.6917     |\n",
      "|       5       |      140      |     0.6332     |    0.6843     |\n",
      "------------------------------------------------------------------\n",
      "\n",
      "EPOCH: 5 AVG LOSS: 0.632258335883553\n",
      "\n",
      "              precision    recall  f1-score   support\n",
      "\n",
      "    positive       0.83      0.87      0.85       333\n",
      "     neutral       0.75      0.39      0.51       164\n",
      "    negative       0.52      0.84      0.65       127\n",
      "    conflict       0.00      0.00      0.00        16\n",
      "\n",
      "    accuracy                           0.72       640\n",
      "   macro avg       0.53      0.53      0.50       640\n",
      "weighted avg       0.73      0.72      0.70       640\n",
      "\n",
      "------------------------------------------------------------------\n",
      "|     EPOCH     |     BATCH     |   TRAIN LOSS   |   EVAL LOSS   |\n",
      "------------------------------------------------------------------\n",
      "|       6       |      20       |     0.3407     |    0.6694     |\n",
      "|       6       |      40       |     0.9256     |    0.7168     |\n",
      "|       6       |      60       |     0.5846     |    0.7145     |\n",
      "|       6       |      80       |     0.8610     |    0.6856     |\n",
      "|       6       |      100      |     0.6869     |    0.6895     |\n",
      "|       6       |      120      |     0.7456     |    0.6714     |\n",
      "|       6       |      140      |     0.4706     |    0.6861     |\n",
      "------------------------------------------------------------------\n",
      "\n",
      "EPOCH: 6 AVG LOSS: 0.5960510556359548\n",
      "\n",
      "              precision    recall  f1-score   support\n",
      "\n",
      "    positive       0.83      0.87      0.85       332\n",
      "     neutral       0.75      0.42      0.54       165\n",
      "    negative       0.54      0.84      0.66       127\n",
      "    conflict       0.00      0.00      0.00        16\n",
      "\n",
      "    accuracy                           0.73       640\n",
      "   macro avg       0.53      0.54      0.51       640\n",
      "weighted avg       0.73      0.73      0.71       640\n",
      "\n",
      "------------------------------------------------------------------\n",
      "|     EPOCH     |     BATCH     |   TRAIN LOSS   |   EVAL LOSS   |\n",
      "------------------------------------------------------------------\n",
      "|       7       |      20       |     0.6313     |    0.7255     |\n",
      "|       7       |      40       |     0.6407     |    0.6709     |\n",
      "|       7       |      60       |     0.5062     |    0.6480     |\n",
      "|       7       |      80       |     0.4556     |    0.6694     |\n",
      "|       7       |      100      |     0.4976     |    0.6614     |\n",
      "|       7       |      120      |     0.4934     |    0.6762     |\n",
      "|       7       |      140      |     0.5239     |    0.6482     |\n",
      "------------------------------------------------------------------\n",
      "\n",
      "EPOCH: 7 AVG LOSS: 0.5607806474373147\n",
      "\n",
      "              precision    recall  f1-score   support\n",
      "\n",
      "    positive       0.83      0.88      0.85       337\n",
      "     neutral       0.77      0.39      0.52       163\n",
      "    negative       0.53      0.85      0.65       125\n",
      "    conflict       0.00      0.00      0.00        15\n",
      "\n",
      "    accuracy                           0.73       640\n",
      "   macro avg       0.53      0.53      0.51       640\n",
      "weighted avg       0.74      0.73      0.71       640\n",
      "\n",
      "------------------------------------------------------------------\n",
      "|     EPOCH     |     BATCH     |   TRAIN LOSS   |   EVAL LOSS   |\n",
      "------------------------------------------------------------------\n",
      "|       8       |      20       |     0.6565     |    0.6604     |\n",
      "|       8       |      40       |     0.4634     |    0.7043     |\n",
      "|       8       |      60       |     0.5352     |    0.6759     |\n",
      "|       8       |      80       |     0.3055     |    0.6863     |\n",
      "|       8       |      100      |     0.7088     |    0.6421     |\n",
      "|       8       |      120      |     0.5684     |    0.6736     |\n",
      "|       8       |      140      |     0.5091     |    0.6969     |\n",
      "------------------------------------------------------------------\n",
      "\n",
      "EPOCH: 8 AVG LOSS: 0.5293228638333243\n",
      "\n",
      "              precision    recall  f1-score   support\n",
      "\n",
      "    positive       0.84      0.87      0.85       335\n",
      "     neutral       0.77      0.35      0.48       165\n",
      "    negative       0.50      0.88      0.64       124\n",
      "    conflict       0.00      0.00      0.00        16\n",
      "\n",
      "    accuracy                           0.72       640\n",
      "   macro avg       0.53      0.52      0.49       640\n",
      "weighted avg       0.74      0.72      0.69       640\n",
      "\n",
      "------------------------------------------------------------------\n",
      "|     EPOCH     |     BATCH     |   TRAIN LOSS   |   EVAL LOSS   |\n",
      "------------------------------------------------------------------\n",
      "|       9       |      20       |     0.7361     |    0.6600     |\n",
      "|       9       |      40       |     0.4694     |    0.6783     |\n",
      "|       9       |      60       |     0.5474     |    0.6512     |\n",
      "|       9       |      80       |     0.5321     |    0.6584     |\n",
      "|       9       |      100      |     0.3495     |    0.6366     |\n",
      "|       9       |      120      |     0.9181     |    0.6526     |\n",
      "|       9       |      140      |     0.6271     |    0.6855     |\n",
      "------------------------------------------------------------------\n",
      "\n",
      "EPOCH: 9 AVG LOSS: 0.5057909663867306\n",
      "\n",
      "              precision    recall  f1-score   support\n",
      "\n",
      "    positive       0.84      0.86      0.85       333\n",
      "     neutral       0.75      0.45      0.56       165\n",
      "    negative       0.52      0.82      0.64       126\n",
      "    conflict       0.00      0.00      0.00        16\n",
      "\n",
      "    accuracy                           0.73       640\n",
      "   macro avg       0.53      0.53      0.51       640\n",
      "weighted avg       0.73      0.73      0.71       640\n",
      "\n",
      "------------------------------------------------------------------\n",
      "|     EPOCH     |     BATCH     |   TRAIN LOSS   |   EVAL LOSS   |\n",
      "------------------------------------------------------------------\n",
      "|      10       |      20       |     0.3887     |    0.6466     |\n",
      "|      10       |      40       |     0.3206     |    0.6586     |\n",
      "|      10       |      60       |     0.2881     |    0.6543     |\n",
      "|      10       |      80       |     0.5011     |    0.6713     |\n",
      "|      10       |      100      |     0.4350     |    0.6454     |\n",
      "|      10       |      120      |     0.4524     |    0.6345     |\n",
      "|      10       |      140      |     0.5054     |    0.6684     |\n",
      "------------------------------------------------------------------\n",
      "\n",
      "EPOCH: 10 AVG LOSS: 0.47986221263134804\n",
      "\n",
      "              precision    recall  f1-score   support\n",
      "\n",
      "    positive       0.83      0.87      0.85       333\n",
      "     neutral       0.75      0.39      0.51       164\n",
      "    negative       0.52      0.85      0.65       127\n",
      "    conflict       0.00      0.00      0.00        16\n",
      "\n",
      "    accuracy                           0.72       640\n",
      "   macro avg       0.53      0.53      0.50       640\n",
      "weighted avg       0.73      0.72      0.70       640\n",
      "\n"
     ]
    },
    {
     "data": {
      "image/png": "[encoded data removed]",
      "text/plain": [
       "<Figure size 432x288 with 1 Axes>"
      ]
     },
     "metadata": {
      "needs_background": "light"
     },
     "output_type": "display_data"
    },
    {
     "data": {
      "image/png": "[encoded data removed]",
      "text/plain": [
       "<Figure size 432x288 with 1 Axes>"
      ]
     },
     "metadata": {},
     "output_type": "display_data"
    }
   ],
   "source": [
    "model, epoch_losses, batch_losses, eval_losses = train(model, \n",
    "                        optimizer, criterion, epochs, train_loader, val_loader, device, print_every, eval_every)"
   ]
  },
  {
   "cell_type": "code",
   "execution_count": 19,
   "metadata": {},
   "outputs": [],
   "source": [
    "torch.save(model, \"../models/BERT_CNN_frozen.pt\")"
   ]
  },
  {
   "cell_type": "code",
   "execution_count": 36,
   "metadata": {},
   "outputs": [],
   "source": [
    "text = \"My laptop has decent speed but a horrible battery life!\"\n",
    "aspect = \"battery life\""
   ]
  },
  {
   "cell_type": "code",
   "execution_count": 37,
   "metadata": {},
   "outputs": [
    {
     "data": {
      "text/plain": [
       "'negative'"
      ]
     },
     "execution_count": 37,
     "metadata": {},
     "output_type": "execute_result"
    }
   ],
   "source": [
    "predict_sample(text, aspect, model, tokenizer)"
   ]
  },
  {
   "cell_type": "code",
   "execution_count": null,
   "metadata": {},
   "outputs": [],
   "source": []
  }
 ],
 "metadata": {
  "interpreter": {
   "hash": "6b91a4b4bd425fd304c2646209932bd24121a9132bf2c68c196c416ea21ab788"
  },
  "kernelspec": {
   "display_name": "Python 3",
   "language": "python",
   "name": "python3"
  },
  "language_info": {
   "codemirror_mode": {
    "name": "ipython",
    "version": 3
   },
   "file_extension": ".py",
   "mimetype": "text/x-python",
   "name": "python",
   "nbconvert_exporter": "python",
   "pygments_lexer": "ipython3",
   "version": "3.7.4"
  }
 },
 "nbformat": 4,
 "nbformat_minor": 4
}
