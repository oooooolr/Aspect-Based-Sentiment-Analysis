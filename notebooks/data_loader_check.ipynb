{
 "cells": [
  {
   "cell_type": "code",
   "execution_count": 1,
   "metadata": {},
   "outputs": [],
   "source": [
    "import sys\n",
    "sys.path.append('..')\n",
    "from utils import load_data\n",
    "from transformers import AutoTokenizer\n",
    "import torch"
   ]
  },
  {
   "cell_type": "code",
   "execution_count": null,
   "metadata": {},
   "outputs": [],
   "source": [
    "tokenizer = AutoTokenizer.from_pretrained('bert-base-cased')"
   ]
  },
  {
   "cell_type": "code",
   "execution_count": 2,
   "metadata": {},
   "outputs": [
    {
     "name": "stdout",
     "output_type": "stream",
     "text": [
      "93\n",
      "93\n"
     ]
    }
   ],
   "source": [
    "loader = load_data('../data/train_laptops.json')\n",
    "print(len(loader))"
   ]
  },
  {
   "cell_type": "code",
   "execution_count": 15,
   "metadata": {},
   "outputs": [
    {
     "name": "stdout",
     "output_type": "stream",
     "text": [
      "0 {'text': [\"Pairing it with an iPhone is a pure pleasure - talk about painless syncing - used to take me forever - now it's a snap.\", 'After paying several hundred dollars for this service, it is frustrating that you cannot get help after hours.', 'I took it back for an Asus and same thing- blue screen which required me to remove the battery to reset.', 'My only disappointment with the 13\" model is that they\\'re the only ones in the MacBook Pro line up without an i5 or i7 processor and dual graphics cards, however the trade-off is that you achieve a longer battery life (of about 2 more hours).', 'The best thing about this laptop is the price along with some of the newer features.', \"However, the multi-touch gestures and large tracking area make having an external mouse unnecessary (unless you're gaming).\", 'This laptop meets every expectation and Windows 7 is great!', \"I did have to replace the battery once, but that was only a couple months ago and it's been working perfect ever since.\", 'One suggestion I do have, is to not bother getting Microsoft office for the mac expecting it will work just like you knew it to on a PC.', 'I also got the added bonus of a 30\" HD Monitor, which really helps to extend my screen and keep my eyes fresh!', 'In the shop, these MacBooks are encased in a soft rubber enclosure - so you will never know about the razor edge until you buy it, get it home, break the seal and use it (very clever con).', 'The machine is slow to boot up and occasionally crashes completely.', 'The tech guy then said the service center does not do 1-to-1 exchange and I have to direct my concern to the \"sales\" team, which is the retail shop which I bought my netbook from.', 'I love the operating system and the preloaded software.', 'The speed is incredible and I am more than satisfied.', 'I can barely use any usb devices because they will not stay connected properly.'], 'tags': tensor([[-100,    3,    3,  ..., -100, -100, -100],\n",
      "        [-100,    3,    3,  ..., -100, -100, -100],\n",
      "        [-100,    3,    3,  ..., -100, -100, -100],\n",
      "        ...,\n",
      "        [-100,    3,    3,  ..., -100, -100, -100],\n",
      "        [-100,    3,    1,  ..., -100, -100, -100],\n",
      "        [-100,    3,    3,  ..., -100, -100, -100]], device='cuda:0')}\n",
      "torch.Size([16, 75])\n",
      "{'input_ids': tensor([[  101, 19585, 14641,  ...,     0,     0,     0],\n",
      "        [  101,  1258,  6573,  ...,     0,     0,     0],\n",
      "        [  101,   146,  1261,  ...,     0,     0,     0],\n",
      "        ...,\n",
      "        [  101,   146,  1567,  ...,     0,     0,     0],\n",
      "        [  101,  1109,  2420,  ...,     0,     0,     0],\n",
      "        [  101,   146,  1169,  ...,     0,     0,     0]], device='cuda:0'), 'token_type_ids': tensor([[0, 0, 0,  ..., 0, 0, 0],\n",
      "        [0, 0, 0,  ..., 0, 0, 0],\n",
      "        [0, 0, 0,  ..., 0, 0, 0],\n",
      "        ...,\n",
      "        [0, 0, 0,  ..., 0, 0, 0],\n",
      "        [0, 0, 0,  ..., 0, 0, 0],\n",
      "        [0, 0, 0,  ..., 0, 0, 0]], device='cuda:0'), 'attention_mask': tensor([[1, 1, 1,  ..., 0, 0, 0],\n",
      "        [1, 1, 1,  ..., 0, 0, 0],\n",
      "        [1, 1, 1,  ..., 0, 0, 0],\n",
      "        ...,\n",
      "        [1, 1, 1,  ..., 0, 0, 0],\n",
      "        [1, 1, 1,  ..., 0, 0, 0],\n",
      "        [1, 1, 1,  ..., 0, 0, 0]], device='cuda:0')}\n"
     ]
    }
   ],
   "source": [
    "for idx, data in enumerate(loader):\n",
    "    print(idx, data)\n",
    "    print(data['tags'].shape)\n",
    "    device = torch.device(\"cuda\" if torch.cuda.is_available() else \"cpu\")\n",
    "    tokenized = tokenizer(data['text'], padding='max_length', max_length=75, truncation=True, return_tensors='pt').to(device)\n",
    "    print(tokenized)\n",
    "    break"
   ]
  },
  {
   "cell_type": "code",
   "execution_count": null,
   "metadata": {},
   "outputs": [],
   "source": []
  }
 ],
 "metadata": {
  "interpreter": {
   "hash": "6b91a4b4bd425fd304c2646209932bd24121a9132bf2c68c196c416ea21ab788"
  },
  "kernelspec": {
   "display_name": "Python 3.7.4 64-bit",
   "language": "python",
   "name": "python3"
  },
  "language_info": {
   "codemirror_mode": {
    "name": "ipython",
    "version": 3
   },
   "file_extension": ".py",
   "mimetype": "text/x-python",
   "name": "python",
   "nbconvert_exporter": "python",
   "pygments_lexer": "ipython3",
   "version": "3.7.4"
  },
  "orig_nbformat": 4
 },
 "nbformat": 4,
 "nbformat_minor": 2
}
